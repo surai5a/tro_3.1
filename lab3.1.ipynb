{
 "cells": [
  {
   "cell_type": "markdown",
   "metadata": {},
   "source": [
    "# Лабораторная работа 3.1"
   ]
  },
  {
   "cell_type": "markdown",
   "metadata": {},
   "source": [
    "## Счастливый билетик\n",
    "\n",
    "![](http://f2.mylove.ru/UNiHT7dRJ4.jpg)\n",
    "\n",
    "Билет считается счастливым, если выполнено следующее условие: сумма первых трёх цифр номера равна сумме последних трёх цифр.\n",
    "\n",
    "**Задание:**\n",
    "\n",
    "1) Определите число `ticket_number` — шестизначный номер билета;\n",
    "\n",
    "2) Напишите код, который по шестизначному номеру `ticket_number` билетика проверяет, является ли он счастливым;\n",
    "\n",
    "3) Если номер счастливый, выведите строку `Yes`, иначе — `No`.\n",
    "\n",
    "---\n",
    "\n",
    "**Пример 1:**\n",
    "\n",
    "*Input:* 123456\n",
    "\n",
    "*Output:* No\n",
    "\n",
    "\n",
    "**Пример 2:**\n",
    "\n",
    "*Input:* 123042\n",
    "\n",
    "*Output:* Yes"
   ]
  },
  {
   "cell_type": "code",
   "execution_count": null,
   "metadata": {
    "collapsed": true,
    "jupyter": {
     "outputs_hidden": true
    }
   },
   "outputs": [],
   "source": [
    "ticket_number = # any 6-digit number"
   ]
  },
  {
   "cell_type": "code",
   "execution_count": 7,
   "metadata": {},
   "outputs": [
    {
     "name": "stdout",
     "output_type": "stream",
     "text": [
      "any 6-digit number: 123042\n",
      "Yes\n"
     ]
    }
   ],
   "source": [
    "code = input('any 6-digit number: ')\n",
    "code = list(code)\n",
    "sum1, sum2 = 0, 0\n",
    "for ind, num in enumerate(code):\n",
    "    if ind < 3:\n",
    "        sum1 += int(num)\n",
    "    else:\n",
    "        sum2 += int(num)\n",
    "if sum1 == sum2:\n",
    "    print('Yes')\n",
    "else:\n",
    "    print('No')"
   ]
  },
  {
   "cell_type": "markdown",
   "metadata": {},
   "source": [
    "## Пароль\n",
    "\n",
    "![](http://forum.ixbt.com/post.cgi?id=attach:77:14138:1341:1)\n",
    "\n",
    "Пусть пароль может содержать только латинские буквы, знаки препинания и цифры.\n",
    "\n",
    "Пароль считается надёжным, если удовлетворяет следующим условиям:\n",
    "- содержит буквы в разных регистрах;\n",
    "- содержит цифры;\n",
    "- содержит не менее `4` уникальных символов;\n",
    "- не содержит ваше имя латинницей, записанное буквами любых регистров (anna, iVan, ...).\n",
    "\n",
    "Иначе пароль считается слабым.\n",
    "\n",
    "**Задание:**\n",
    "\n",
    "1) Определите строку `password` — придуманный вами пароль;\n",
    "\n",
    "2) Напишите код, который по паролю `password` проверяет, является ли он надёжным;\n",
    "\n",
    "3) Если пароль надёжный, выведите строку `strong`, иначе — `weak`.\n",
    "\n",
    "\n",
    "---\n",
    "\n",
    "Пусть имя пользоватея -- Андрей.\n",
    "\n",
    "**Пример 1:**\n",
    "\n",
    "*Input:* Aandrei123\n",
    "\n",
    "*Output:* weak\n",
    "\n",
    "\n",
    "**Пример 2:**\n",
    "\n",
    "*Input:* an12dRei\n",
    "\n",
    "*Output:* strong"
   ]
  },
  {
   "cell_type": "code",
   "execution_count": null,
   "metadata": {
    "collapsed": true,
    "jupyter": {
     "outputs_hidden": true
    }
   },
   "outputs": [],
   "source": [
    "password = # any password"
   ]
  },
  {
   "cell_type": "code",
   "execution_count": 80,
   "metadata": {},
   "outputs": [
    {
     "name": "stdout",
     "output_type": "stream",
     "text": [
      "Сильный\n"
     ]
    }
   ],
   "source": [
    "def validate_by_common_rules(password ,name):\n",
    "    a, b = 0, 0\n",
    "    d = 0\n",
    "    # Валиидация по регистру\n",
    "    for i in password:\n",
    "        if i.isupper() == True:\n",
    "            a += 1\n",
    "        else:\n",
    "            b += 1\n",
    "    if (a == 0 and b == len(password)) or (a == len(password) and b == 0):\n",
    "        print(\"слабый\")\n",
    "        exit(1)\n",
    "    else:\n",
    "        # Валидация по цифрам\n",
    "        for i in password:\n",
    "            if i.isdigit() == True:\n",
    "                d += 1\n",
    "        if d == 0:\n",
    "            print(\"слабый\")\n",
    "            exit(1)\n",
    "        else:\n",
    "            # Валидация по имени\n",
    "            if name.lower() in password.lower():\n",
    "                print(\"слабый\")\n",
    "                exit(1)\n",
    "            else:\n",
    "                # Валидация по уникальностии символов\n",
    "                lst = []\n",
    "                count = 0\n",
    "                for i in password:\n",
    "                    if i not in lst:\n",
    "                        count += 1\n",
    "                        lst.append(i)\n",
    "                if count < 4:\n",
    "                    print(\"слабый\")\n",
    "                else:\n",
    "                    print(\"Сильный\")\n",
    "        \n",
    "\n",
    "        \n",
    "name = str(input(\"Ваше имя? (Латинницей) \"))\n",
    "passw = str(input(\"Пароль? \"))\n",
    "validate_by_common_rules(passw, name)"
   ]
  },
  {
   "cell_type": "markdown",
   "metadata": {},
   "source": [
    "## Числа Фибоначчи\n",
    "Как известно, [числа Фибоначчи](https://ru.wikipedia.org/wiki/%D0%A7%D0%B8%D1%81%D0%BB%D0%B0_%D0%A4%D0%B8%D0%B1%D0%BE%D0%BD%D0%B0%D1%87%D1%87%D0%B8) — это последовательность чисел, каждое из которых равно сумме двух предыдущих (первые два числа равны $1$):\n",
    "$$\n",
    "    1, 1, 2, 3, 5, 8, 13, \\ldots\n",
    "$$\n",
    "\n",
    "**Задание:**\n",
    "\n",
    "1) Определите число `amount` — количество чисел Фибоначчи, которые надо вывести;\n",
    "\n",
    "2) Напишите код, который выводит первые `amount` чисел Фибоначчи.\n",
    "\n",
    "---\n",
    "\n",
    "**Пример 1:**\n",
    "\n",
    "*Input:* 3\n",
    "\n",
    "*Output:* 1 1 2\n",
    "\n",
    "\n",
    "**Пример 2:**\n",
    "\n",
    "*Input:* 10\n",
    "\n",
    "*Output:* 1 1 2 3 5 8 13 21 34 55\n"
   ]
  },
  {
   "cell_type": "code",
   "execution_count": null,
   "metadata": {},
   "outputs": [],
   "source": [
    "amount = # any number"
   ]
  },
  {
   "cell_type": "code",
   "execution_count": 44,
   "metadata": {},
   "outputs": [
    {
     "name": "stdout",
     "output_type": "stream",
     "text": [
      "Input: 3\n",
      "Output: 1 1 2\n"
     ]
    }
   ],
   "source": [
    "def fibon(n):\n",
    "    f = 1\n",
    "    s = 1\n",
    "    i = 0\n",
    "    mas = []\n",
    "    mas.append(f) \n",
    "    mas.append(s)    \n",
    "    while i < n - 2:\n",
    "        x = f + s\n",
    "        mas.append(x)\n",
    "        f = s\n",
    "        s = x\n",
    "        i = i + 1\n",
    "    mas = [str(x) for x in mas]\n",
    "    print('Output:', ' '.join(mas))\n",
    "        \n",
    "\n",
    "n = int(input('Input: '))     \n",
    "fibon(n)"
   ]
  },
  {
   "cell_type": "markdown",
   "metadata": {},
   "source": [
    "## Время исследований\n",
    "\n",
    "![](https://2.bp.blogspot.com/-VOT5x12UqPY/WSh53tQ94HI/AAAAAAAAAMY/-nlcz28_Fj4UzJjbn4bBINKCnzwag1W4QCLcB/s1600/my-pic-widget.jpg)\n",
    "\n",
    "На сайте https://www.kaggle.com/ выберите любой набор данных в формате CSV и проведите для него маленькое исследование: загрузите данные из набора с использованием стандартного модуля `csv`, посмотрите средние значения и стандартные отклонения двух выбранных числовых атрибутов, найдите [методом наименьших квадратов](https://ru.wikipedia.org/wiki/%D0%9C%D0%B5%D1%82%D0%BE%D0%B4_%D0%BD%D0%B0%D0%B8%D0%BC%D0%B5%D0%BD%D1%8C%D1%88%D0%B8%D1%85_%D0%BA%D0%B2%D0%B0%D0%B4%D1%80%D0%B0%D1%82%D0%BE%D0%B2) уравнение линейной зависимости, связывающей один числовой атрибут с другим. Для оценки заданной зависимости найдите [коэффициент парной корреляции](https://ru.wikipedia.org/wiki/%D0%9A%D0%BE%D1%80%D1%80%D0%B5%D0%BB%D1%8F%D1%86%D0%B8%D1%8F), сделайте соответствующие выводы.\n",
    "\n",
    "**Результаты надо обязательно прокомментировать и пояснить!**\n",
    "\n",
    "---\n",
    "\n",
    "**Пример 1:**\n",
    "\n",
    "Пусть таблица `bikes.csv` содержит данные по арендам велосипедов за $2$ года:\n",
    "- `datetime`: дата и время аренды\n",
    "- `season`: время года\n",
    "- `temp`: температура воздуха по Цельсию\n",
    "- `windspeed`: скорость ветра \n",
    "- `registered`: число аренд\n",
    "\n",
    "Одно из направлений исследования могло бы заключаться в проверке зависимости суммарного числа аренд от температуры воздуха."
   ]
  },
  {
   "cell_type": "markdown",
   "metadata": {},
   "source": [
    "*в такой ячейке (режим Markdown) можно писать текст*"
   ]
  },
  {
   "cell_type": "code",
   "execution_count": 1,
   "metadata": {
    "tags": []
   },
   "outputs": [
    {
     "name": "stdout",
     "output_type": "stream",
     "text": [
      "Коэффициент -- a 0.0  \n",
      "Коэффициент-- b -2.5718  \n",
      "Коэффициент -- c 70041.8681  \n",
      "Среднее квадратичное отклонение 0.0052\n"
     ]
    },
    {
     "data": {
      "image/png": "[encoded data removed]",
      "text/plain": [
       "<Figure size 432x288 with 1 Axes>"
      ]
     },
     "metadata": {
      "needs_background": "light"
     },
     "output_type": "display_data"
    },
    {
     "name": "stdout",
     "output_type": "stream",
     "text": [
      "[[ 1.        -0.5353571]\n",
      " [-0.5353571  1.       ]]\n"
     ]
    },
    {
     "data": {
      "image/png": "[encoded data removed]",
      "text/plain": [
       "<Figure size 432x288 with 1 Axes>"
      ]
     },
     "metadata": {
      "needs_background": "light"
     },
     "output_type": "display_data"
    },
    {
     "name": "stdout",
     "output_type": "stream",
     "text": [
      "Средняя стоимость автомобиля: 24827.244000749906\n",
      "Средний пробег автомобиля: 22896.685039370077\n"
     ]
    }
   ],
   "source": [
    "import matplotlib.pyplot as plt\n",
    "import matplotlib as mpl\n",
    "import scipy as sp\n",
    "import numpy\n",
    "import pandas\n",
    "import csv\n",
    "mpl.rcParams['font.family'] = 'fantasy'\n",
    "\n",
    "\n",
    "res = []\n",
    "x = []\n",
    "y = []\n",
    "\n",
    "\n",
    "def mnkGP(x, y):\n",
    "    d = 2\n",
    "    fp, residuals, rank, sv, rcond = numpy.polyfit(x, y, d, full=True)\n",
    "    f = sp.poly1d(fp)\n",
    "    print('Коэффициент -- a %s  ' % round(fp[0], 4))\n",
    "    print('Коэффициент-- b %s  ' % round(fp[1], 4))\n",
    "    print('Коэффициент -- c %s  ' % round(fp[2], 4))\n",
    "    y1 = [fp[0] * x[i] ** 2 + fp[1] * x[i] + fp[2] for i in range(0, len(x))]\n",
    "    so = round(sum([abs(y[i] - y1[i]) for i in range(0, len(x))]) / (len(x) * sum(y)) * 100, 4)\n",
    "    print('Среднее квадратичное отклонение ' + str(so))\n",
    "    fx = numpy.linspace(x[0], x[-1] + 1, len(x))\n",
    "    plt.plot(x, y, 'o', label='Original data', markersize=10)\n",
    "    plt.plot(fx, f(fx), linewidth=2)\n",
    "    plt.grid(True)\n",
    "    plt.show()\n",
    "\n",
    "\n",
    "\n",
    "def corcf():\n",
    "    print(numpy.corrcoef(x, y))\n",
    "    xs = x\n",
    "    ys = y\n",
    "    pandas.DataFrame(numpy.array([xs, ys]).T).plot.scatter(0, 1, s=12, grid=True)\n",
    "    plt.xlabel('Рост, см.')\n",
    "    plt.ylabel('Логарифмический вес')\n",
    "    plt.show()\n",
    "    \n",
    "\n",
    "with open(\"audi.csv\", encoding='utf-8') as f:\n",
    "    reader = csv.DictReader(f, dialect='excel')\n",
    "    for row in reader:\n",
    "        res.append(row)\n",
    "    for i in res:\n",
    "        if i.get('price') == '-':\n",
    "            continue\n",
    "        else:\n",
    "            x.append(int(i.get('price')))\n",
    "    for i in res:\n",
    "        if i.get('mileage') == '-':\n",
    "            continue\n",
    "        else:\n",
    "            y.append(int(i.get('mileage')))\n",
    "            \n",
    "            \n",
    "mnkGP(x, y)\n",
    "corcf()\n",
    "\n",
    "print(f\"Средняя стоимость автомобиля: {numpy.mean(y)}\")\n",
    "print(f\"Средний пробег автомобиля: {numpy.mean(x)}\")"
   ]
  },
  {
   "cell_type": "markdown",
   "metadata": {},
   "source": [
    "Здесь должны быть кратко описаны результаты исследования и обнаруженых фактов.\n",
    "\n",
    "...\n",
    "\n",
    "..."
   ]
  },
  {
   "cell_type": "code",
   "execution_count": null,
   "metadata": {},
   "outputs": [],
   "source": [
    "Значение коэфициента (умеренная отрицательная корелляция) корелляции и график корелляциии указывают нам на то, что имеется связь между ценой и пробегом авто: высокая цена - низкий пробег,\n",
    "низкая цена - высокий пробег и наоборот.\n",
    "Таким образом, статистически установлена взаимосвязь пробега и стоимости автомобиля.\n",
    "\n"
   ]
  }
 ],
 "metadata": {
  "anaconda-cloud": {},
  "kernelspec": {
   "display_name": "Python 3 (ipykernel)",
   "language": "python",
   "name": "python3"
  },
  "language_info": {
   "codemirror_mode": {
    "name": "ipython",
    "version": 3
   },
   "file_extension": ".py",
   "mimetype": "text/x-python",
   "name": "python",
   "nbconvert_exporter": "python",
   "pygments_lexer": "ipython3",
   "version": "3.9.7"
  }
 },
 "nbformat": 4,
 "nbformat_minor": 4
}
